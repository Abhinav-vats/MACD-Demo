{
 "cells": [
  {
   "cell_type": "code",
   "execution_count": 3,
   "id": "d7f7ff66",
   "metadata": {},
   "outputs": [],
   "source": [
    "import pandas as pd\n",
    "import numpy as np"
   ]
  },
  {
   "cell_type": "code",
   "execution_count": 4,
   "id": "5c7bd249",
   "metadata": {},
   "outputs": [],
   "source": [
    "aapl_stock_data = pd.read_csv('data/AAPL.csv')"
   ]
  },
  {
   "cell_type": "code",
   "execution_count": 7,
   "id": "3f3ff7e3",
   "metadata": {},
   "outputs": [
    {
     "data": {
      "text/html": [
       "<div>\n",
       "<style scoped>\n",
       "    .dataframe tbody tr th:only-of-type {\n",
       "        vertical-align: middle;\n",
       "    }\n",
       "\n",
       "    .dataframe tbody tr th {\n",
       "        vertical-align: top;\n",
       "    }\n",
       "\n",
       "    .dataframe thead th {\n",
       "        text-align: right;\n",
       "    }\n",
       "</style>\n",
       "<table border=\"1\" class=\"dataframe\">\n",
       "  <thead>\n",
       "    <tr style=\"text-align: right;\">\n",
       "      <th></th>\n",
       "      <th>Date</th>\n",
       "      <th>Open</th>\n",
       "      <th>High</th>\n",
       "      <th>Low</th>\n",
       "      <th>Close</th>\n",
       "      <th>Volume</th>\n",
       "      <th>Ex-Dividend</th>\n",
       "      <th>Split Ratio</th>\n",
       "      <th>Adj. Open</th>\n",
       "      <th>Adj. High</th>\n",
       "      <th>Adj. Low</th>\n",
       "      <th>Adj. Close</th>\n",
       "      <th>Adj. Volume</th>\n",
       "    </tr>\n",
       "  </thead>\n",
       "  <tbody>\n",
       "    <tr>\n",
       "      <th>2510</th>\n",
       "      <td>2017-11-22</td>\n",
       "      <td>173.36</td>\n",
       "      <td>175.00</td>\n",
       "      <td>173.0500</td>\n",
       "      <td>174.96</td>\n",
       "      <td>24997274.0</td>\n",
       "      <td>0.0</td>\n",
       "      <td>1.0</td>\n",
       "      <td>173.36</td>\n",
       "      <td>175.00</td>\n",
       "      <td>173.0500</td>\n",
       "      <td>174.96</td>\n",
       "      <td>24997274.0</td>\n",
       "    </tr>\n",
       "    <tr>\n",
       "      <th>2511</th>\n",
       "      <td>2017-11-24</td>\n",
       "      <td>175.10</td>\n",
       "      <td>175.50</td>\n",
       "      <td>174.6459</td>\n",
       "      <td>174.97</td>\n",
       "      <td>14026519.0</td>\n",
       "      <td>0.0</td>\n",
       "      <td>1.0</td>\n",
       "      <td>175.10</td>\n",
       "      <td>175.50</td>\n",
       "      <td>174.6459</td>\n",
       "      <td>174.97</td>\n",
       "      <td>14026519.0</td>\n",
       "    </tr>\n",
       "    <tr>\n",
       "      <th>2512</th>\n",
       "      <td>2017-11-27</td>\n",
       "      <td>175.05</td>\n",
       "      <td>175.08</td>\n",
       "      <td>173.3400</td>\n",
       "      <td>174.09</td>\n",
       "      <td>20536313.0</td>\n",
       "      <td>0.0</td>\n",
       "      <td>1.0</td>\n",
       "      <td>175.05</td>\n",
       "      <td>175.08</td>\n",
       "      <td>173.3400</td>\n",
       "      <td>174.09</td>\n",
       "      <td>20536313.0</td>\n",
       "    </tr>\n",
       "    <tr>\n",
       "      <th>2513</th>\n",
       "      <td>2017-11-28</td>\n",
       "      <td>174.30</td>\n",
       "      <td>174.87</td>\n",
       "      <td>171.8600</td>\n",
       "      <td>173.07</td>\n",
       "      <td>25468442.0</td>\n",
       "      <td>0.0</td>\n",
       "      <td>1.0</td>\n",
       "      <td>174.30</td>\n",
       "      <td>174.87</td>\n",
       "      <td>171.8600</td>\n",
       "      <td>173.07</td>\n",
       "      <td>25468442.0</td>\n",
       "    </tr>\n",
       "    <tr>\n",
       "      <th>2514</th>\n",
       "      <td>2017-11-29</td>\n",
       "      <td>172.63</td>\n",
       "      <td>172.92</td>\n",
       "      <td>167.1600</td>\n",
       "      <td>169.48</td>\n",
       "      <td>40788324.0</td>\n",
       "      <td>0.0</td>\n",
       "      <td>1.0</td>\n",
       "      <td>172.63</td>\n",
       "      <td>172.92</td>\n",
       "      <td>167.1600</td>\n",
       "      <td>169.48</td>\n",
       "      <td>40788324.0</td>\n",
       "    </tr>\n",
       "    <tr>\n",
       "      <th>2515</th>\n",
       "      <td>2017-11-30</td>\n",
       "      <td>170.43</td>\n",
       "      <td>172.14</td>\n",
       "      <td>168.4400</td>\n",
       "      <td>171.85</td>\n",
       "      <td>40172368.0</td>\n",
       "      <td>0.0</td>\n",
       "      <td>1.0</td>\n",
       "      <td>170.43</td>\n",
       "      <td>172.14</td>\n",
       "      <td>168.4400</td>\n",
       "      <td>171.85</td>\n",
       "      <td>40172368.0</td>\n",
       "    </tr>\n",
       "    <tr>\n",
       "      <th>2516</th>\n",
       "      <td>2017-12-01</td>\n",
       "      <td>169.95</td>\n",
       "      <td>171.67</td>\n",
       "      <td>168.5000</td>\n",
       "      <td>171.05</td>\n",
       "      <td>39590080.0</td>\n",
       "      <td>0.0</td>\n",
       "      <td>1.0</td>\n",
       "      <td>169.95</td>\n",
       "      <td>171.67</td>\n",
       "      <td>168.5000</td>\n",
       "      <td>171.05</td>\n",
       "      <td>39590080.0</td>\n",
       "    </tr>\n",
       "  </tbody>\n",
       "</table>\n",
       "</div>"
      ],
      "text/plain": [
       "            Date    Open    High       Low   Close      Volume  Ex-Dividend  \\\n",
       "2510  2017-11-22  173.36  175.00  173.0500  174.96  24997274.0          0.0   \n",
       "2511  2017-11-24  175.10  175.50  174.6459  174.97  14026519.0          0.0   \n",
       "2512  2017-11-27  175.05  175.08  173.3400  174.09  20536313.0          0.0   \n",
       "2513  2017-11-28  174.30  174.87  171.8600  173.07  25468442.0          0.0   \n",
       "2514  2017-11-29  172.63  172.92  167.1600  169.48  40788324.0          0.0   \n",
       "2515  2017-11-30  170.43  172.14  168.4400  171.85  40172368.0          0.0   \n",
       "2516  2017-12-01  169.95  171.67  168.5000  171.05  39590080.0          0.0   \n",
       "\n",
       "      Split Ratio  Adj. Open  Adj. High  Adj. Low  Adj. Close  Adj. Volume  \n",
       "2510          1.0     173.36     175.00  173.0500      174.96   24997274.0  \n",
       "2511          1.0     175.10     175.50  174.6459      174.97   14026519.0  \n",
       "2512          1.0     175.05     175.08  173.3400      174.09   20536313.0  \n",
       "2513          1.0     174.30     174.87  171.8600      173.07   25468442.0  \n",
       "2514          1.0     172.63     172.92  167.1600      169.48   40788324.0  \n",
       "2515          1.0     170.43     172.14  168.4400      171.85   40172368.0  \n",
       "2516          1.0     169.95     171.67  168.5000      171.05   39590080.0  "
      ]
     },
     "execution_count": 7,
     "metadata": {},
     "output_type": "execute_result"
    }
   ],
   "source": [
    "aapl_stock_data.tail(7)\n"
   ]
  },
  {
   "cell_type": "code",
   "execution_count": 8,
   "id": "8369365f",
   "metadata": {},
   "outputs": [
    {
     "data": {
      "text/plain": [
       "pandas.core.frame.DataFrame"
      ]
     },
     "execution_count": 8,
     "metadata": {},
     "output_type": "execute_result"
    }
   ],
   "source": [
    "type(aapl_stock_data)"
   ]
  },
  {
   "cell_type": "code",
   "execution_count": 9,
   "id": "5ef4b59f",
   "metadata": {},
   "outputs": [
    {
     "data": {
      "text/plain": [
       "<AxesSubplot:>"
      ]
     },
     "execution_count": 9,
     "metadata": {},
     "output_type": "execute_result"
    },
    {
     "data": {
      "image/png": "[encoded data removed]",
      "text/plain": [
       "<Figure size 432x288 with 1 Axes>"
      ]
     },
     "metadata": {
      "needs_background": "light"
     },
     "output_type": "display_data"
    }
   ],
   "source": [
    "aapl_stock_data.plot()"
   ]
  },
  {
   "cell_type": "code",
   "execution_count": 12,
   "id": "0c2a9f6b",
   "metadata": {},
   "outputs": [
    {
     "data": {
      "text/plain": [
       "<AxesSubplot:>"
      ]
     },
     "execution_count": 12,
     "metadata": {},
     "output_type": "execute_result"
    },
    {
     "data": {
      "image/png": "[encoded data removed]",
      "text/plain": [
       "<Figure size 432x288 with 1 Axes>"
      ]
     },
     "metadata": {
      "needs_background": "light"
     },
     "output_type": "display_data"
    }
   ],
   "source": [
    "aapl_stock_data[\"Adj. High\"].plot()\n",
    "aapl_stock_data[\"Adj. Close\"].plot()\n"
   ]
  },
  {
   "cell_type": "code",
   "execution_count": null,
   "id": "7675be7b",
   "metadata": {},
   "outputs": [],
   "source": [
    "    "
   ]
  }
 ],
 "metadata": {
  "kernelspec": {
   "display_name": "Python 3",
   "language": "python",
   "name": "python3"
  },
  "language_info": {
   "codemirror_mode": {
    "name": "ipython",
    "version": 3
   },
   "file_extension": ".py",
   "mimetype": "text/x-python",
   "name": "python",
   "nbconvert_exporter": "python",
   "pygments_lexer": "ipython3",
   "version": "3.8.8"
  }
 },
 "nbformat": 4,
 "nbformat_minor": 5
}
